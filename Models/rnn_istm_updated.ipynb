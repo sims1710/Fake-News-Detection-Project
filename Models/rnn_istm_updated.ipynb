{
 "cells": [
  {
   "cell_type": "markdown",
   "metadata": {},
   "source": [
    "# LSTM Attempt"
   ]
  },
  {
   "cell_type": "code",
   "execution_count": null,
   "metadata": {
    "colab": {
     "base_uri": "https://localhost:8080/"
    },
    "id": "Ed6f_CnkH-NC",
    "outputId": "7b1796c1-69ff-4103-a48f-33febc07b90f"
   },
   "outputs": [],
   "source": [
    "# !pip install pandas\n",
    "# !pip install transformers\n",
    "# !pip install nltk\n",
    "# !pip install torch==2.1.2 torchvision==0.16.2 torchaudio==2.1.2 torchtext==0.16.2 --index-url https://download.pytorch.org/whl/cu118\n",
    "# !pip install torchmetrics\n",
    "# !pip install spacy\n",
    "# !pip install matplotlib\n",
    "# !pip install scikit-learn\n",
    "# !pip install torchmetrics\n",
    "# !pip install imbalanced-learn\n",
    "# !pip install torcheval"
   ]
  },
  {
   "cell_type": "code",
   "execution_count": 2,
   "metadata": {
    "colab": {
     "base_uri": "https://localhost:8080/"
    },
    "id": "AbGyCCoeH-ND",
    "outputId": "19932b49-e190-4721-8b43-9778e39ea391"
   },
   "outputs": [
    {
     "name": "stderr",
     "output_type": "stream",
     "text": [
      "[nltk_data] Downloading package stopwords to /home/jovyan/nltk_data...\n",
      "[nltk_data]   Package stopwords is already up-to-date!\n",
      "[nltk_data] Downloading package punkt to /home/jovyan/nltk_data...\n",
      "[nltk_data]   Package punkt is already up-to-date!\n",
      "/opt/conda/lib/python3.11/site-packages/tqdm/auto.py:21: TqdmWarning: IProgress not found. Please update jupyter and ipywidgets. See https://ipywidgets.readthedocs.io/en/stable/user_install.html\n",
      "  from .autonotebook import tqdm as notebook_tqdm\n"
     ]
    },
    {
     "data": {
      "text/plain": [
       "True"
      ]
     },
     "execution_count": 2,
     "metadata": {},
     "output_type": "execute_result"
    }
   ],
   "source": [
    "import pandas as pd\n",
    "import numpy as np\n",
    "import torch\n",
    "import pickle\n",
    "import nltk\n",
    "import nltk\n",
    "nltk.download('stopwords')\n",
    "nltk.download('punkt')\n",
    "from nltk.corpus import stopwords\n",
    "from nltk.tokenize import word_tokenize\n",
    "from transformers import BertTokenizerFast, BertModel, BertTokenizer\n",
    "from torch.utils.data import Dataset, SubsetRandomSampler, DataLoader\n",
    "from torcheval.metrics import BinaryF1Score\n",
    "import torcheval.metrics.classification\n",
    "from torcheval.metrics.classification import BinaryRecall\n",
    "from torcheval.metrics import BinaryAUPRC\n",
    "import torch.nn as nn\n",
    "from torchmetrics.classification import BinaryAccuracy\n",
    "from torch.nn.utils.rnn import pad_sequence\n",
    "# from torchtext.vocab import vocab\n",
    "from torchtext.vocab import build_vocab_from_iterator, Vocab\n",
    "from collections import Counter\n",
    "from sklearn.metrics import mean_squared_error\n",
    "from torchmetrics.classification import MulticlassAccuracy\n",
    "import matplotlib.pyplot as plt\n",
    "from tqdm.auto import tqdm\n",
    "from torchtext.data import get_tokenizer\n",
    "from torchtext.vocab import GloVe\n",
    "from sklearn.metrics import accuracy_score\n",
    "import imblearn\n",
    "from sklearn.metrics import precision_recall_fscore_support\n",
    "import torcheval.metrics\n",
    "from sklearn.metrics import accuracy_score, precision_score, recall_score, f1_score\n",
    "\n",
    "\n",
    "torch.cuda.is_available()"
   ]
  },
  {
   "cell_type": "code",
   "execution_count": 3,
   "metadata": {
    "id": "QWeWdr01H-NE"
   },
   "outputs": [],
   "source": [
    "!export CUBLAS_WORKSPACE_CONFIG=:16:8\n",
    "!export CUBLAS_WORKSPACE_CONFIG=:4096:2"
   ]
  },
  {
   "cell_type": "markdown",
   "metadata": {},
   "source": [
    "# For 1st model"
   ]
  },
  {
   "cell_type": "markdown",
   "metadata": {
    "id": "FzZBKpAsH-NF"
   },
   "source": [
    "# data preprocessing\n",
    "\n",
    "1) remove stopwords\n",
    "2) add 1 or 0\n",
    "3) merge\n"
   ]
  },
  {
   "cell_type": "code",
   "execution_count": 4,
   "metadata": {
    "id": "XtROqa1bH-NF"
   },
   "outputs": [],
   "source": [
    "with open('./Data/fake.pkl', 'rb') as f:\n",
    "    fake_pkl = pickle.load(f)\n",
    "\n",
    "with open('./Data/real.pkl', 'rb') as file:\n",
    "    real_pkl = pickle.load(file)\n",
    "\n",
    "# print(f'Fake pickle file:\\n{fake_pkl[0:5]}\\n')\n",
    "# print(f'Real pickle file:\\n{real_pkl[0:5]}\\n')"
   ]
  },
  {
   "cell_type": "markdown",
   "metadata": {
    "id": "lGUNlW9rH-NF"
   },
   "source": [
    "adding \"[CLS] \" and \" [SEP]\" at the start and end of every row as bert tokenizer works that way"
   ]
  },
  {
   "cell_type": "code",
   "execution_count": 5,
   "metadata": {
    "colab": {
     "base_uri": "https://localhost:8080/"
    },
    "id": "XI-mdfMbH-NF",
    "outputId": "04ee568e-7ce4-49ef-dd8f-fe206b782841"
   },
   "outputs": [
    {
     "name": "stdout",
     "output_type": "stream",
     "text": [
      "Fake Dataframe:\n",
      "                                            original\n",
      "0  In todays of reports on a fake Proof of Life J...\n",
      "1  On the people will have the opportunity to do ...\n",
      "2  J This is the continuation of the testimony I ...\n",
      "3  The great thing about modern technology and fo...\n",
      "4  on Longtime If All of s s She Could Lose State...\n",
      "\n",
      "Real Dataframe:\n",
      "                                            original\n",
      "0  Ward was convicted of arson in He was given an...\n",
      "1  At vast global gatherings like the climate whi...\n",
      "2  had decided to release Life on Mars as a singl...\n",
      "3  In a land of the grammar is king I should know...\n",
      "4  In came under fire for suggesting that half of...\n",
      "\n",
      "Fake Dataframe:\n",
      "                                             cleaned\n",
      "0  todays reports fake proof life jump trump saw ...\n",
      "1  people opportunity department justice refuse d...\n",
      "2  j continuation testimony present public utilit...\n",
      "3  great thing modern technology food industriali...\n",
      "4  longtime could lose states new read emails wou...\n",
      "\n",
      "Real Dataframe:\n",
      "                                             cleaned\n",
      "0  ward convicted arson given indeterminate sente...\n",
      "1  vast global gatherings like climate concluded ...\n",
      "2  decided release life mars single called wanted...\n",
      "3  land grammar king know based progress new way ...\n",
      "4  came fire suggesting half supporters belonged ...\n",
      "\n"
     ]
    }
   ],
   "source": [
    "def remove_stopwords(sentence, stop_words):\n",
    "    word_tokens = word_tokenize(sentence)\n",
    "    filtered = \" \".join([i.lower() for i in word_tokens if not i.lower() in stop_words])\n",
    "    return filtered\n",
    "\n",
    "\n",
    "fake_df = pd.DataFrame(fake_pkl, columns=[\"original\"])\n",
    "real_df = pd.DataFrame(real_pkl, columns=[\"original\"])\n",
    "\n",
    "print(f'Fake Dataframe:\\n{fake_df[0:5]}\\n')\n",
    "print(f'Real Dataframe:\\n{real_df[0:5]}\\n')\n",
    "\n",
    "stop_words = set(stopwords.words('english'))\n",
    "\n",
    "result = [remove_stopwords(x, stop_words) for x in fake_df['original']]\n",
    "fake = pd.DataFrame(result, columns=[\"cleaned\"])\n",
    "result = [remove_stopwords(x, stop_words) for x in real_df['original']]\n",
    "real = pd.DataFrame(result, columns=[\"cleaned\"])\n",
    "\n",
    "print(f'Fake Dataframe:\\n{fake[0:5]}\\n')\n",
    "print(f'Real Dataframe:\\n{real[0:5]}\\n')\n"
   ]
  },
  {
   "cell_type": "code",
   "execution_count": 6,
   "metadata": {
    "colab": {
     "base_uri": "https://localhost:8080/"
    },
    "id": "nWxk3vQXH-NG",
    "outputId": "331b7d05-97ba-4bff-f167-07d846746d47"
   },
   "outputs": [
    {
     "name": "stdout",
     "output_type": "stream",
     "text": [
      "Index(['cleaned', 'label'], dtype='object')                                              cleaned  label\n",
      "0  ward convicted arson given indeterminate sente...      0\n",
      "1  vast global gatherings like climate concluded ...      0 9762\n",
      "Index(['cleaned', 'label'], dtype='object')                                              cleaned  label\n",
      "0  todays reports fake proof life jump trump saw ...      1\n",
      "1  people opportunity department justice refuse d...      1 12228\n",
      "Index(['cleaned', 'label'], dtype='object')                                              cleaned  label\n",
      "0  ward convicted arson given indeterminate sente...      0\n",
      "1  vast global gatherings like climate concluded ...      0 21990\n"
     ]
    }
   ],
   "source": [
    "def add_label(dataset, label):\n",
    "    dataset['label'] = label\n",
    "    return dataset\n",
    "\n",
    "real_labeled = add_label(real, 0)\n",
    "fake_labeled = add_label(fake, 1)\n",
    "print(real_labeled.columns, real_labeled[0:2], len(real_labeled))\n",
    "print(fake_labeled.columns, fake_labeled[0:2], len(fake_labeled))\n",
    "\n",
    "combined_labeled = pd.concat([real_labeled, fake_labeled])\n",
    "print(combined_labeled.columns, combined_labeled[0:2], len(combined_labeled))\n",
    "\n"
   ]
  },
  {
   "cell_type": "markdown",
   "metadata": {
    "id": "HKYwtflrH-NG"
   },
   "source": [
    "## Embedding: GLove"
   ]
  },
  {
   "cell_type": "code",
   "execution_count": 7,
   "metadata": {
    "id": "_-kxV2tXH-NG"
   },
   "outputs": [],
   "source": [
    "spacy_tinputs = []\n",
    "tokenizer = get_tokenizer(\"basic_english\")\n",
    "\n",
    "unique_tokens = []\n",
    "max_length = 0\n",
    "\n",
    "# tokenise the sentences, output []\n",
    "for sent in combined_labeled['cleaned']:\n",
    "    tokens = tokenizer(sent)\n",
    "    for i in tokens:\n",
    "        if i not in unique_tokens:\n",
    "            unique_tokens.append(i)\n",
    "\n",
    "    spacy_tinputs.append(tokens)\n",
    "    if len(tokens) > max_length:\n",
    "        # print(len(tokens))\n",
    "        max_length = len(tokens)"
   ]
  },
  {
   "cell_type": "code",
   "execution_count": 8,
   "metadata": {
    "colab": {
     "base_uri": "https://localhost:8080/"
    },
    "id": "qQVT5Bo4H-NH",
    "outputId": "d36f1dec-8257-4ccc-8a60-a5a962459329"
   },
   "outputs": [
    {
     "name": "stdout",
     "output_type": "stream",
     "text": [
      "56373 3794\n",
      "372 260\n"
     ]
    }
   ],
   "source": [
    "print(len(unique_tokens), max_length)\n",
    "# print(len(spacy_tinputs), max_length)\n",
    "# needs padding\n",
    "print(len(spacy_tinputs[1]), len(spacy_tinputs[0]))\n"
   ]
  },
  {
   "cell_type": "code",
   "execution_count": 9,
   "metadata": {
    "id": "16hqVCdMH-NH"
   },
   "outputs": [],
   "source": [
    "# Load pre-trained GloVe embeddings\n",
    "glove = GloVe(name='6B', dim=100)\n",
    "\n",
    "class NewsArticleDataset(Dataset):\n",
    "    def __init__(self, text, label):\n",
    "        self.text = text\n",
    "        self.label = label\n",
    "\n",
    "    def __len__(self):\n",
    "        return len(self.text)\n",
    "\n",
    "    def __getitem__(self, idx):\n",
    "        text = self.text[idx]\n",
    "        label = self.label[idx]\n",
    "        # Convert text to numerical vectors using pre-trained word embeddings (GloVe)\n",
    "        vectorized_text = [glove[word] for word in text if word in glove.stoi]\n",
    "        if not vectorized_text:\n",
    "            vectorized_text = [torch.zeros(100)]  # Use zero vector if no valid embeddings are found\n",
    "        return torch.stack(vectorized_text), label\n",
    "\n",
    "dataset = NewsArticleDataset(spacy_tinputs, combined_labeled['label'].values)"
   ]
  },
  {
   "cell_type": "code",
   "execution_count": 10,
   "metadata": {
    "colab": {
     "base_uri": "https://localhost:8080/"
    },
    "id": "UquuW8l5H-NH",
    "outputId": "c2af9f08-ff1f-45c9-ee17-1067cab4e8b0"
   },
   "outputs": [
    {
     "name": "stdout",
     "output_type": "stream",
     "text": [
      "21990\n",
      "17592\n"
     ]
    }
   ],
   "source": [
    "batch_size = 40\n",
    "validation_split = .1\n",
    "test_split = .1\n",
    "shuffle_dataset = True\n",
    "random_seed= 42\n",
    "\n",
    "\n",
    "\n",
    "# vocab_list = create_vocab()\n",
    "\n",
    "# Creating data indices for training and validation splits:\n",
    "dataset_size = len(dataset)\n",
    "print(dataset_size)\n",
    "indices = list(range(dataset_size))\n",
    "split = int(np.floor(validation_split * dataset_size))\n",
    "if shuffle_dataset :\n",
    "    np.random.seed(random_seed)\n",
    "    np.random.shuffle(indices)\n",
    "\n",
    "train_indices, test_indices, val_indices = indices[2*split:], indices[:split], indices[split:split*2]\n",
    "\n",
    "print(len(train_indices))\n",
    "\n",
    "def collate_fn(batch):\n",
    "    texts, labels = zip(*batch)\n",
    "    padded_texts = pad_sequence(texts, batch_first=True, padding_value=0)\n",
    "    return padded_texts, torch.tensor(labels)\n",
    "\n",
    "\n",
    "# Creating PT data samplers and loaders:\n",
    "train_sampler = SubsetRandomSampler(train_indices)\n",
    "valid_sampler = SubsetRandomSampler(val_indices)\n",
    "test_sampler = SubsetRandomSampler(test_indices)\n",
    "\n",
    "train_loader = DataLoader(dataset, batch_size=batch_size,\n",
    "                                           sampler=train_sampler, collate_fn=collate_fn ,drop_last=True)\n",
    "\n",
    "validation_loader = DataLoader(dataset, batch_size=batch_size,\n",
    "                                                sampler=valid_sampler, collate_fn= collate_fn, drop_last=True)\n",
    "\n",
    "# test does not need batch size\n",
    "test_loader = DataLoader(dataset, batch_size=1, sampler=test_sampler)"
   ]
  },
  {
   "cell_type": "code",
   "execution_count": 11,
   "metadata": {
    "colab": {
     "base_uri": "https://localhost:8080/"
    },
    "id": "1gdQKIGjH-NH",
    "outputId": "1ae146a0-5c58-4220-f700-7eb609d1e3c1"
   },
   "outputs": [
    {
     "data": {
      "text/plain": [
       "439"
      ]
     },
     "execution_count": 11,
     "metadata": {},
     "output_type": "execute_result"
    }
   ],
   "source": [
    "len(train_loader)"
   ]
  },
  {
   "cell_type": "code",
   "execution_count": 12,
   "metadata": {
    "colab": {
     "base_uri": "https://localhost:8080/"
    },
    "id": "9b4Iywn-H-NI",
    "outputId": "49467890-d595-4f59-e5f4-5c6b41bd7df3"
   },
   "outputs": [
    {
     "name": "stdout",
     "output_type": "stream",
     "text": [
      "cuda\n"
     ]
    }
   ],
   "source": [
    "device = torch.device('cuda' if torch.cuda.is_available() else 'cpu')\n",
    "# device = torch.device('cpu')\n",
    "print(device)"
   ]
  },
  {
   "cell_type": "code",
   "execution_count": 13,
   "metadata": {
    "colab": {
     "base_uri": "https://localhost:8080/"
    },
    "id": "X5qJG-X2H-NI",
    "outputId": "ee3fa105-b784-4e15-f756-68422f9318e8"
   },
   "outputs": [
    {
     "name": "stdout",
     "output_type": "stream",
     "text": [
      "torch.Size([40, 1698, 100]) torch.Size([40])\n"
     ]
    }
   ],
   "source": [
    "#\n",
    "i = 0\n",
    "for batch in train_loader:\n",
    "    if i:\n",
    "        a,b = batch\n",
    "        print(a.shape, b.shape)\n",
    "        break\n",
    "    i+=1"
   ]
  },
  {
   "cell_type": "markdown",
   "metadata": {
    "id": "JOKtZ71YH-NI"
   },
   "source": [
    "## LSTM Model"
   ]
  },
  {
   "cell_type": "code",
   "execution_count": 90,
   "metadata": {
    "id": "y6Fj7BOlH-NI"
   },
   "outputs": [],
   "source": [
    "class LSTMModel(nn.Module):\n",
    "    def __init__(self, hidden_size, num_classes, num_layers, vocab_size, embedding_dim, dropout):\n",
    "        super(LSTMModel, self).__init__()\n",
    "        # self.embedding = nn.Embedding(num_embeddings=vocab_size, \\\n",
    "        #                                embedding_dim= embedding_dim, padding_idx=0)\n",
    "        self.lstm = nn.LSTM(input_size=embedding_dim, hidden_size=hidden_size,\\\n",
    "                            num_layers=num_layers, batch_first=True)\n",
    "\n",
    "        self.fc_1 =  nn.Linear(hidden_size, 32)\n",
    "        self.fc = nn.Linear(32, num_classes)\n",
    "        self.relu = nn.ReLU()\n",
    "        self.num_classes = num_classes\n",
    "        self.num_layers = num_layers\n",
    "        self.hidden_size = hidden_size\n",
    "        self.dropout = nn.Dropout(dropout)\n",
    "        # loss\n",
    "        self.loss = nn.BCELoss()\n",
    "        self.sigmoid = nn.Sigmoid()\n",
    "\n",
    "        # self.relu = nn.relu()\n",
    "        self.accuracy = BinaryAccuracy()\n",
    "\n",
    "\n",
    "    def forward(self, inputs):\n",
    "        # embed_inputs = self.embedding(inputs)\n",
    "        # print(\"Embed inputs: \", embed_inputs.shape)\n",
    "        out, (hidden, cell) = self.lstm(inputs)\n",
    "\n",
    "        hidden = hidden[-1]\n",
    "        out = self.relu(hidden)\n",
    "        out1 = self.fc_1(out)\n",
    "        out2 = self.relu(out1)\n",
    "        out3 = self.fc(out2)\n",
    "        # out4 = self.sigmoid(out3)\n",
    "        out4 = self.relu(out3)\n",
    "        return out4\n",
    "\n",
    "    def binary_f1_score(self, y_pred, y_true):\n",
    "        y_true = y_true.float()\n",
    "        y_pred = (y_pred > 0.5).float()\n",
    "\n",
    "        tp = (y_true * y_pred).sum().item()\n",
    "        fp = ((1 - y_true) * y_pred).sum().item()\n",
    "        fn = (y_true * (1 - y_pred)).sum().item()\n",
    "\n",
    "        epsilon = 1e-7\n",
    "        precision = tp / (tp + fp + epsilon)\n",
    "        recall = tp / (tp + fn + epsilon)\n",
    "        f1 = 2 * (precision * recall) / (precision + recall + epsilon)\n",
    "        return f1\n",
    "\n",
    "    def binary_recall(self, y_pred, y_true):\n",
    "        y_true = y_true.float()\n",
    "        y_pred = (y_pred > 0.5).float()\n",
    "\n",
    "        tp = (y_true * y_pred).sum().item()\n",
    "        fn = (y_true * (1 - y_pred)).sum().item()\n",
    "\n",
    "        epsilon = 1e-7\n",
    "        recall = tp / (tp + fn + epsilon)\n",
    "        return recall\n",
    "\n",
    "    def binary_precision(self, y_pred, y_true):\n",
    "        y_true = y_true.float()\n",
    "        y_pred = (y_pred > 0.5).float()\n",
    "\n",
    "        tp = (y_true * y_pred).sum().item()\n",
    "        fp = ((1 - y_true) * y_pred).sum().item()\n",
    "\n",
    "        epsilon = 1e-7\n",
    "        precision = tp / (tp + fp + epsilon)\n",
    "        return precision"
   ]
  },
  {
   "cell_type": "code",
   "execution_count": 91,
   "metadata": {
    "id": "DMm3giiuH-NI"
   },
   "outputs": [],
   "source": [
    "# input_size = 1 # number of features\n",
    "hidden_size = 64\n",
    "num_classes = 1\n",
    "num_layers = 2\n",
    "embedding_dim = 100\n",
    "dropout = 0.2\n",
    "vocab_size = len(unique_tokens)\n",
    "lstm_model = LSTMModel(hidden_size, num_classes, num_layers, vocab_size, embedding_dim, dropout).to(device)"
   ]
  },
  {
   "cell_type": "code",
   "execution_count": 92,
   "metadata": {
    "colab": {
     "base_uri": "https://localhost:8080/"
    },
    "id": "M1y0iUI6H-NJ",
    "outputId": "18f5f880-9f4c-4481-cf8a-20de183e9e82"
   },
   "outputs": [
    {
     "name": "stdout",
     "output_type": "stream",
     "text": [
      "LSTMModel(\n",
      "  (lstm): LSTM(100, 64, num_layers=2, batch_first=True)\n",
      "  (fc_1): Linear(in_features=64, out_features=32, bias=True)\n",
      "  (fc): Linear(in_features=32, out_features=1, bias=True)\n",
      "  (relu): ReLU()\n",
      "  (dropout): Dropout(p=0.2, inplace=False)\n",
      "  (loss): BCELoss()\n",
      "  (sigmoid): Sigmoid()\n",
      "  (accuracy): BinaryAccuracy()\n",
      ")\n"
     ]
    }
   ],
   "source": [
    "print(lstm_model)"
   ]
  },
  {
   "cell_type": "code",
   "execution_count": 93,
   "metadata": {
    "id": "XYp3eMjaH-NJ"
   },
   "outputs": [],
   "source": [
    "learning_rate = 0.001\n",
    "num_epochs = 3\n",
    "# criterion = torch.nn.MSELoss()\n",
    "optimizer = torch.optim.RMSprop(lstm_model.parameters(), lr=learning_rate)"
   ]
  },
  {
   "cell_type": "code",
   "execution_count": 94,
   "metadata": {
    "colab": {
     "base_uri": "https://localhost:8080/",
     "height": 49,
     "referenced_widgets": [
      "80a9ce11346b488d81ba6689d00ce9a5",
      "984240726a8b478099b4c1d4f458368c",
      "21974db1f4cc4407bfb34473bf64f69e",
      "f0777c7ed22048f9a7c58021e29f7ee1",
      "e02da7e120b64eee8755a217a4ad5d00",
      "b904faf766a642bc8e3b8b0107e0cbbd",
      "8d9ca40ad4dc4583b1d01a2c03060569",
      "983c5082468940d698d8720dcc5c3aca",
      "b3672a7148f1421d9be52eace77db098",
      "d36928dce7a84b758634497aa098348b",
      "a0b03762c4bd49a29d94f930eea45a56"
     ]
    },
    "id": "ZGDN0vRmH-NJ",
    "outputId": "064044bd-13d7-48ae-dd65-2cad9b80a13a"
   },
   "outputs": [
    {
     "name": "stderr",
     "output_type": "stream",
     "text": [
      " 33%|███▎      | 1/3 [01:11<02:23, 71.90s/it]"
     ]
    },
    {
     "name": "stdout",
     "output_type": "stream",
     "text": [
      "Test loss: 0.6824, Test Accuracy: 1.0000\n",
      "Test Precision: 0.0000, Test F1: 0.0000, Test recall: 0.0000\n",
      "Saving best model with test loss: 0.6824\n",
      "Epoch [1/3], Training loss: 0.7081, Training Accuracy: 0.5000\n",
      "Training Precision: 0.5000, Training F1: 0.6667, Training recall: 1.0000\n"
     ]
    },
    {
     "name": "stderr",
     "output_type": "stream",
     "text": [
      " 67%|██████▋   | 2/3 [02:09<01:03, 63.70s/it]"
     ]
    },
    {
     "name": "stdout",
     "output_type": "stream",
     "text": [
      "Test loss: 0.6864, Test Accuracy: 0.0000\n",
      "Test Precision: 0.0000, Test F1: 0.0000, Test recall: 0.0000\n",
      "Epoch [2/3], Training loss: 0.6304, Training Accuracy: 0.7000\n",
      "Training Precision: 0.7000, Training F1: 0.7778, Training recall: 0.8750\n"
     ]
    },
    {
     "name": "stderr",
     "output_type": "stream",
     "text": [
      "100%|██████████| 3/3 [03:12<00:00, 64.07s/it]"
     ]
    },
    {
     "name": "stdout",
     "output_type": "stream",
     "text": [
      "Test loss: 0.7166, Test Accuracy: 0.0000\n",
      "Test Precision: 0.0000, Test F1: 0.0000, Test recall: 0.0000\n",
      "Epoch [3/3], Training loss: 0.7249, Training Accuracy: 0.5500\n",
      "Training Precision: 0.5000, Training F1: 0.6250, Training recall: 0.8333\n"
     ]
    },
    {
     "name": "stderr",
     "output_type": "stream",
     "text": [
      "\n"
     ]
    },
    {
     "data": {
      "image/png": "[encoded data removed]",
      "text/plain": [
       "<Figure size 640x480 with 1 Axes>"
      ]
     },
     "metadata": {},
     "output_type": "display_data"
    }
   ],
   "source": [
    "test_loss_list = []\n",
    "loss_list = []\n",
    "epoch_list = []\n",
    "\n",
    "def train(train_loader, test_loader):\n",
    "    best_loss = 100\n",
    "\n",
    "    for epoch in tqdm(range(num_epochs)):\n",
    "        y_true = []\n",
    "        y_pred = []\n",
    "        lstm_model.train()\n",
    "        for batch in train_loader:\n",
    "\n",
    "            optimizer.zero_grad()\n",
    "            # print(batch)\n",
    "            texts, labels = batch\n",
    "            texts = texts.to(device)\n",
    "            labels = labels.to(device)\n",
    "\n",
    "\n",
    "            # forward pass\n",
    "            outputs = lstm_model.forward(texts)\n",
    "            labels =labels.to(torch.float)\n",
    "\n",
    "            labels = labels.reshape(-1, 1)\n",
    "\n",
    "            # loss\n",
    "            loss = lstm_model.loss(outputs, labels)\n",
    "            binary_acc = lstm_model.accuracy(outputs, labels)\n",
    "            binary_pre = lstm_model.binary_precision(outputs, labels)\n",
    "            binary_f1 = lstm_model.binary_f1_score(outputs, labels)\n",
    "            binary_rec = lstm_model.binary_recall(outputs, labels)\n",
    "\n",
    "            # back prop\n",
    "            loss.backward()\n",
    "            optimizer.step()\n",
    "\n",
    "        test_loss = evaluate(test_loader)\n",
    "        if test_loss < best_loss:\n",
    "            best_loss = test_loss\n",
    "            best_model_weights = lstm_model.state_dict()\n",
    "            torch.save(best_model_weights, 'glove_adam_model_1.pt')\n",
    "            print(f'Saving best model with test loss: {best_loss:.4f}')\n",
    "        print(f'Epoch [{epoch+1}/{num_epochs}], Training loss: {loss.item():.4f}, Training Accuracy: {binary_acc:.4f}')\n",
    "        print(f'Training Precision: {binary_pre:.4f}, Training F1: {binary_f1:.4f}, Training recall: {binary_rec:.4f}')\n",
    "        loss_list.append(loss.item())\n",
    "\n",
    "def evaluate(loader):\n",
    "    test_loss_list = []\n",
    "    y_true = []\n",
    "    y_pred = []\n",
    "    lstm_model.eval()\n",
    "    for batch in loader:\n",
    "\n",
    "        with torch.no_grad():\n",
    "            # print(batch)\n",
    "            texts, labels = batch\n",
    "            texts = texts.to(device)\n",
    "            labels = labels.to(device)\n",
    "\n",
    "            # forward pass\n",
    "            outputs = lstm_model.forward(texts)\n",
    "\n",
    "            labels =labels.to(torch.float)\n",
    "            # print(labels.shape)\n",
    "            labels = labels.reshape(-1, 1)\n",
    "            # loss\n",
    "            loss = lstm_model.loss(outputs, labels)\n",
    "            binary_acc = lstm_model.accuracy(outputs, labels)\n",
    "            binary_pre = lstm_model.binary_precision(outputs, labels)\n",
    "            binary_f1 = lstm_model.binary_f1_score(outputs, labels)\n",
    "            binary_rec = lstm_model.binary_recall(outputs, labels)\n",
    "\n",
    "            test_loss_list.append(loss)\n",
    "\n",
    "    avg_loss = sum(test_loss_list) / len(loader)\n",
    "    print(f'Test loss: {avg_loss.item():.4f}, Test Accuracy: {binary_acc:.4f}')\n",
    "    print(f'Test Precision: {binary_pre:.4f}, Test F1: {binary_f1:.4f}, Test recall: {binary_rec:.4f}')\n",
    "\n",
    "    return avg_loss\n",
    "\n",
    "train(train_loader, test_loader)\n",
    "epoch_list = [i for i in range(len(loss_list))]\n",
    "plt.plot(epoch_list, loss_list)\n",
    "plt.show()"
   ]
  },
  {
   "cell_type": "markdown",
   "metadata": {
    "id": "WVxTB1Q2H-NJ"
   },
   "source": [
    "# Second model for classification"
   ]
  },
  {
   "cell_type": "code",
   "execution_count": 3,
   "metadata": {
    "id": "Vbig0zHcH-NK"
   },
   "outputs": [],
   "source": [
    "def read_and_drop_data(path):\n",
    "    data =  pd.read_csv(path)\n",
    "    data = data.drop(data[data['label'] == 'Real'].index)\n",
    "    columns = ['author', 'published', 'title', 'text', 'language', 'site_url', 'main_img_url',\n",
    "               'label', 'hasImage', 'title_without_stopwords']\n",
    "    data = data.drop(columns=columns, axis=1)\n",
    "    data.dropna(inplace=True)\n",
    "\n",
    "    return data\n",
    "\n",
    "path = './Data/news_articles.csv'\n",
    "second_dataset = read_and_drop_data(path)"
   ]
  },
  {
   "cell_type": "code",
   "execution_count": 4,
   "metadata": {
    "colab": {
     "base_uri": "https://localhost:8080/"
    },
    "id": "Gkle-DpgH-NK",
    "outputId": "adca448a-ebd6-42d4-d0c3-314583117b24"
   },
   "outputs": [
    {
     "name": "stdout",
     "output_type": "stream",
     "text": [
      "<class 'pandas.core.frame.DataFrame'>\n",
      "Index: 1292 entries, 33 to 1992\n",
      "Data columns (total 2 columns):\n",
      " #   Column                  Non-Null Count  Dtype \n",
      "---  ------                  --------------  ----- \n",
      " 0   type                    1292 non-null   object\n",
      " 1   text_without_stopwords  1292 non-null   object\n",
      "dtypes: object(2)\n",
      "memory usage: 30.3+ KB\n",
      "None\n"
     ]
    }
   ],
   "source": [
    "print(second_dataset.info())"
   ]
  },
  {
   "cell_type": "code",
   "execution_count": 5,
   "metadata": {
    "colab": {
     "base_uri": "https://localhost:8080/"
    },
    "id": "Md_XLwR6H-NK",
    "outputId": "5219a50a-a309-41f8-deb3-d34791cfdbe3"
   },
   "outputs": [
    {
     "name": "stdout",
     "output_type": "stream",
     "text": [
      "    type                             text_without_stopwords\n",
      "33     1  st century wire says wire reported friday fbis...\n",
      "34     1  stunning turn events days presidential electio...\n",
      "35     1  tidal wave revelations pouring clinton campaig...\n",
      "36     1  november wire comments patrick henningsen st c...\n",
      "37     1  november shawn helton comment shawn helton st ...\n"
     ]
    }
   ],
   "source": [
    "second_dataset[\"type\"] = second_dataset[\"type\"].map({\"bias\": 0, \"conspiracy\": 1, \"fake\": 2, \"hate\": 3, \"bs\": 4, \"satire\": 5, \"junksci\": 6})\n",
    "second_dataset.dropna(inplace=True)\n",
    "print(second_dataset.head())"
   ]
  },
  {
   "cell_type": "code",
   "execution_count": 6,
   "metadata": {
    "colab": {
     "base_uri": "https://localhost:8080/"
    },
    "id": "DhBRobdpH-NK",
    "outputId": "e634bd8a-b836-435f-fcb6-ea2a3099a600"
   },
   "outputs": [
    {
     "data": {
      "text/plain": [
       "type\n",
       "2     15\n",
       "6    102\n",
       "5    146\n",
       "1    430\n",
       "4    599\n",
       "dtype: int64"
      ]
     },
     "execution_count": 6,
     "metadata": {},
     "output_type": "execute_result"
    }
   ],
   "source": [
    "second_dataset.groupby(\"type\").size().sort_values(ascending=True)"
   ]
  },
  {
   "cell_type": "code",
   "execution_count": 7,
   "metadata": {
    "colab": {
     "base_uri": "https://localhost:8080/"
    },
    "id": "Ue0d15MFH-NL",
    "outputId": "244444f7-5b42-4081-dcce-ed79ab6b03a5"
   },
   "outputs": [
    {
     "name": "stdout",
     "output_type": "stream",
     "text": [
      "   index  type                             text_without_stopwords\n",
      "0     33     1  st century wire says wire reported friday fbis...\n",
      "1     34     1  stunning turn events days presidential electio...\n",
      "2     35     1  tidal wave revelations pouring clinton campaig...\n",
      "3     36     1  november wire comments patrick henningsen st c...\n",
      "4     37     1  november shawn helton comment shawn helton st ...\n"
     ]
    }
   ],
   "source": [
    "second_dataset = second_dataset.reset_index()\n",
    "print(second_dataset.head())"
   ]
  },
  {
   "cell_type": "code",
   "execution_count": 8,
   "metadata": {
    "colab": {
     "base_uri": "https://localhost:8080/"
    },
    "id": "R6qXg4qPH-NL",
    "outputId": "053da781-395f-4906-d035-014f09af280e"
   },
   "outputs": [
    {
     "name": "stdout",
     "output_type": "stream",
     "text": [
      "<class 'pandas.core.frame.DataFrame'>\n",
      "Index: 1063 entries, 24 to 1291\n",
      "Data columns (total 6 columns):\n",
      " #   Column                  Non-Null Count  Dtype \n",
      "---  ------                  --------------  ----- \n",
      " 0   text_without_stopwords  1063 non-null   object\n",
      " 1   0                       1063 non-null   bool  \n",
      " 2   1                       1063 non-null   bool  \n",
      " 3   2                       1063 non-null   bool  \n",
      " 4   3                       1063 non-null   bool  \n",
      " 5   4                       1063 non-null   bool  \n",
      "dtypes: bool(5), object(1)\n",
      "memory usage: 21.8+ KB\n",
      "                                text_without_stopwords      0      1      2  \\\n",
      "24   share president obama signed executive order d...  False   True  False   \n",
      "25   united states marine field mcconnell plum city...  False   True  False   \n",
      "167  melissa dykes oligarchy runs society problem r...   True  False  False   \n",
      "168  jay syrmopoulos pipeline opponents attempting ...   True  False  False   \n",
      "169  learn liberty anonymity shield tyranny majorit...   True  False  False   \n",
      "\n",
      "         3      4  \n",
      "24   False  False  \n",
      "25   False  False  \n",
      "167  False  False  \n",
      "168  False  False  \n",
      "169  False  False   None\n"
     ]
    }
   ],
   "source": [
    "from sklearn.preprocessing import LabelEncoder\n",
    "\n",
    "for index, row in second_dataset.iterrows():\n",
    "    count = second_dataset.groupby(\"type\").size().sort_values(ascending=True)[4]\n",
    "    count1 = second_dataset.groupby(\"type\").size().sort_values(ascending=True)[1]\n",
    "    if count > 400 and row['type'] == 4:\n",
    "        second_dataset.drop(index, inplace=True)\n",
    "    elif count1 > 400 and row['type'] == 1:\n",
    "        second_dataset.drop(index, inplace=True)\n",
    "\n",
    "second_dataset.drop('index', inplace=True, axis=1)\n",
    "second_dataset[\"type\"] = second_dataset[\"type\"].map({1: 0, 2: 1, 4: 2, 5: 3, 6: 4})\n",
    "df_ohe = pd.get_dummies(second_dataset['type'])\n",
    "second_dataset = pd.concat([second_dataset[['text_without_stopwords']], df_ohe], axis=1)\n",
    "\n",
    "print(second_dataset.head(), second_dataset.info())\n",
    "# second_dataset.groupby(\"type\").size().sort_values(ascending=True)\n"
   ]
  },
  {
   "cell_type": "markdown",
   "metadata": {
    "id": "Q5U-rCkkH-NL"
   },
   "source": [
    "After removing some of the rows that cause a severe class imbalance"
   ]
  },
  {
   "cell_type": "code",
   "execution_count": 9,
   "metadata": {
    "id": "d8u3YWMVH-NL"
   },
   "outputs": [],
   "source": [
    "spacy_tinputs = []\n",
    "tokenizer = get_tokenizer(\"basic_english\")\n",
    "# tokenizer = en_core_web_sm.load()\n",
    "unique_tokens = []\n",
    "max_length = 0\n",
    "\n",
    "# tokenise the sentences, output []\n",
    "for sent in second_dataset['text_without_stopwords']:\n",
    "    tokens = tokenizer(sent)\n",
    "    for i in tokens:\n",
    "        if i not in unique_tokens:\n",
    "            unique_tokens.append(i)\n",
    "\n",
    "    spacy_tinputs.append(tokens)\n",
    "    if len(tokens) > max_length:\n",
    "        # print(len(tokens))\n",
    "        max_length = len(tokens)"
   ]
  },
  {
   "cell_type": "code",
   "execution_count": 10,
   "metadata": {
    "colab": {
     "base_uri": "https://localhost:8080/"
    },
    "id": "Ct_b3BrUH-NM",
    "outputId": "b1b6c9aa-e368-47ac-e723-ea711d61ccef"
   },
   "outputs": [
    {
     "name": "stdout",
     "output_type": "stream",
     "text": [
      "33506 2981\n"
     ]
    }
   ],
   "source": [
    "print(len(unique_tokens), max_length)\n"
   ]
  },
  {
   "cell_type": "code",
   "execution_count": 11,
   "metadata": {
    "colab": {
     "base_uri": "https://localhost:8080/",
     "height": 206
    },
    "id": "sTQaiHIQH-NM",
    "outputId": "13e88f4e-5f58-4e48-c9b5-a95f8884a4b5"
   },
   "outputs": [
    {
     "data": {
      "application/vnd.google.colaboratory.intrinsic+json": {
       "summary": "{\n  \"name\": \"second_dataset\",\n  \"rows\": 1063,\n  \"fields\": [\n    {\n      \"column\": \"text_without_stopwords\",\n      \"properties\": {\n        \"dtype\": \"string\",\n        \"num_unique_values\": 1012,\n        \"samples\": [\n          \"exclusive dem senators private email hacked dcleaks obtains emails colorado democratic senator andy kerr mikael thalen october comments infowars exclusively learned email account colorado democratic senator andy kerr hacked emails shown infowars website dcleaks include hundreds discussions march july one email concerning marijuana legislation oddly claiming december taken kerrs gmail account emails currently password protected mostly surround requests comments kerrs constituents wide range political topics speaking infowars david pourshoushtari communications director colorado state senate democrats said kerr unaware hack senator declined provide official statement situation could assessed exact reasoning behind hack currently unknown kerr may targeted part hacking campaign compromised emails political figures including clinton campaign chairman john podesta also unclear whether kerr like podesta fell victim phishing attack would resulted senator putting email password fake google login page earlier month former chief protocol united states capricia marshall one clintons insiders state department similarly emails appear dcleaks website also made headlines august publishing hundreds documents connected billionaire donor george soros according us government many cybersecurity community russian state hackers responsible recent spate election season hacks dcleaks similarly accused publishing front russian government newsletter sign get latest breaking news specials alex jones infowars crew related articles\",\n          \"mosquito army released zika fight brazil colombia vaccinating mosquitoes image credits flickr n scientists planning release army millions modified mosquitoes areas brazil colombia say unusual approach attempt provide revolutionary protection mosquitoborne diseases zika chikungunya mosquitoes infected bug called wolbachia reduces ability spread viruses people dollar project funded international team donors including bill melinda gates foundation\",\n          \"id love see clinton spend money losepenniless\"\n        ],\n        \"semantic_type\": \"\",\n        \"description\": \"\"\n      }\n    },\n    {\n      \"column\": 0,\n      \"properties\": {\n        \"dtype\": \"boolean\",\n        \"num_unique_values\": 2,\n        \"samples\": [\n          true,\n          false\n        ],\n        \"semantic_type\": \"\",\n        \"description\": \"\"\n      }\n    },\n    {\n      \"column\": 1,\n      \"properties\": {\n        \"dtype\": \"boolean\",\n        \"num_unique_values\": 2,\n        \"samples\": [\n          false,\n          true\n        ],\n        \"semantic_type\": \"\",\n        \"description\": \"\"\n      }\n    },\n    {\n      \"column\": 2,\n      \"properties\": {\n        \"dtype\": \"boolean\",\n        \"num_unique_values\": 2,\n        \"samples\": [\n          true,\n          false\n        ],\n        \"semantic_type\": \"\",\n        \"description\": \"\"\n      }\n    },\n    {\n      \"column\": 3,\n      \"properties\": {\n        \"dtype\": \"boolean\",\n        \"num_unique_values\": 2,\n        \"samples\": [\n          true,\n          false\n        ],\n        \"semantic_type\": \"\",\n        \"description\": \"\"\n      }\n    },\n    {\n      \"column\": 4,\n      \"properties\": {\n        \"dtype\": \"boolean\",\n        \"num_unique_values\": 2,\n        \"samples\": [\n          true,\n          false\n        ],\n        \"semantic_type\": \"\",\n        \"description\": \"\"\n      }\n    }\n  ]\n}",
       "type": "dataframe",
       "variable_name": "second_dataset"
      },
      "text/html": [
       "\n",
       "  <div id=\"df-3e083023-6d26-4e83-b2d4-523b10d6624b\" class=\"colab-df-container\">\n",
       "    <div>\n",
       "<style scoped>\n",
       "    .dataframe tbody tr th:only-of-type {\n",
       "        vertical-align: middle;\n",
       "    }\n",
       "\n",
       "    .dataframe tbody tr th {\n",
       "        vertical-align: top;\n",
       "    }\n",
       "\n",
       "    .dataframe thead th {\n",
       "        text-align: right;\n",
       "    }\n",
       "</style>\n",
       "<table border=\"1\" class=\"dataframe\">\n",
       "  <thead>\n",
       "    <tr style=\"text-align: right;\">\n",
       "      <th></th>\n",
       "      <th>text_without_stopwords</th>\n",
       "      <th>0</th>\n",
       "      <th>1</th>\n",
       "      <th>2</th>\n",
       "      <th>3</th>\n",
       "      <th>4</th>\n",
       "    </tr>\n",
       "  </thead>\n",
       "  <tbody>\n",
       "    <tr>\n",
       "      <th>24</th>\n",
       "      <td>share president obama signed executive order d...</td>\n",
       "      <td>False</td>\n",
       "      <td>True</td>\n",
       "      <td>False</td>\n",
       "      <td>False</td>\n",
       "      <td>False</td>\n",
       "    </tr>\n",
       "    <tr>\n",
       "      <th>25</th>\n",
       "      <td>united states marine field mcconnell plum city...</td>\n",
       "      <td>False</td>\n",
       "      <td>True</td>\n",
       "      <td>False</td>\n",
       "      <td>False</td>\n",
       "      <td>False</td>\n",
       "    </tr>\n",
       "    <tr>\n",
       "      <th>167</th>\n",
       "      <td>melissa dykes oligarchy runs society problem r...</td>\n",
       "      <td>True</td>\n",
       "      <td>False</td>\n",
       "      <td>False</td>\n",
       "      <td>False</td>\n",
       "      <td>False</td>\n",
       "    </tr>\n",
       "    <tr>\n",
       "      <th>168</th>\n",
       "      <td>jay syrmopoulos pipeline opponents attempting ...</td>\n",
       "      <td>True</td>\n",
       "      <td>False</td>\n",
       "      <td>False</td>\n",
       "      <td>False</td>\n",
       "      <td>False</td>\n",
       "    </tr>\n",
       "    <tr>\n",
       "      <th>169</th>\n",
       "      <td>learn liberty anonymity shield tyranny majorit...</td>\n",
       "      <td>True</td>\n",
       "      <td>False</td>\n",
       "      <td>False</td>\n",
       "      <td>False</td>\n",
       "      <td>False</td>\n",
       "    </tr>\n",
       "  </tbody>\n",
       "</table>\n",
       "</div>\n",
       "    <div class=\"colab-df-buttons\">\n",
       "\n",
       "  <div class=\"colab-df-container\">\n",
       "    <button class=\"colab-df-convert\" onclick=\"convertToInteractive('df-3e083023-6d26-4e83-b2d4-523b10d6624b')\"\n",
       "            title=\"Convert this dataframe to an interactive table.\"\n",
       "            style=\"display:none;\">\n",
       "\n",
       "  <svg xmlns=\"http://www.w3.org/2000/svg\" height=\"24px\" viewBox=\"0 -960 960 960\">\n",
       "    <path d=\"M120-120v-720h720v720H120Zm60-500h600v-160H180v160Zm220 220h160v-160H400v160Zm0 220h160v-160H400v160ZM180-400h160v-160H180v160Zm440 0h160v-160H620v160ZM180-180h160v-160H180v160Zm440 0h160v-160H620v160Z\"/>\n",
       "  </svg>\n",
       "    </button>\n",
       "\n",
       "  <style>\n",
       "    .colab-df-container {\n",
       "      display:flex;\n",
       "      gap: 12px;\n",
       "    }\n",
       "\n",
       "    .colab-df-convert {\n",
       "      background-color: #E8F0FE;\n",
       "      border: none;\n",
       "      border-radius: 50%;\n",
       "      cursor: pointer;\n",
       "      display: none;\n",
       "      fill: #1967D2;\n",
       "      height: 32px;\n",
       "      padding: 0 0 0 0;\n",
       "      width: 32px;\n",
       "    }\n",
       "\n",
       "    .colab-df-convert:hover {\n",
       "      background-color: #E2EBFA;\n",
       "      box-shadow: 0px 1px 2px rgba(60, 64, 67, 0.3), 0px 1px 3px 1px rgba(60, 64, 67, 0.15);\n",
       "      fill: #174EA6;\n",
       "    }\n",
       "\n",
       "    .colab-df-buttons div {\n",
       "      margin-bottom: 4px;\n",
       "    }\n",
       "\n",
       "    [theme=dark] .colab-df-convert {\n",
       "      background-color: #3B4455;\n",
       "      fill: #D2E3FC;\n",
       "    }\n",
       "\n",
       "    [theme=dark] .colab-df-convert:hover {\n",
       "      background-color: #434B5C;\n",
       "      box-shadow: 0px 1px 3px 1px rgba(0, 0, 0, 0.15);\n",
       "      filter: drop-shadow(0px 1px 2px rgba(0, 0, 0, 0.3));\n",
       "      fill: #FFFFFF;\n",
       "    }\n",
       "  </style>\n",
       "\n",
       "    <script>\n",
       "      const buttonEl =\n",
       "        document.querySelector('#df-3e083023-6d26-4e83-b2d4-523b10d6624b button.colab-df-convert');\n",
       "      buttonEl.style.display =\n",
       "        google.colab.kernel.accessAllowed ? 'block' : 'none';\n",
       "\n",
       "      async function convertToInteractive(key) {\n",
       "        const element = document.querySelector('#df-3e083023-6d26-4e83-b2d4-523b10d6624b');\n",
       "        const dataTable =\n",
       "          await google.colab.kernel.invokeFunction('convertToInteractive',\n",
       "                                                    [key], {});\n",
       "        if (!dataTable) return;\n",
       "\n",
       "        const docLinkHtml = 'Like what you see? Visit the ' +\n",
       "          '<a target=\"_blank\" href=https://colab.research.google.com/notebooks/data_table.ipynb>data table notebook</a>'\n",
       "          + ' to learn more about interactive tables.';\n",
       "        element.innerHTML = '';\n",
       "        dataTable['output_type'] = 'display_data';\n",
       "        await google.colab.output.renderOutput(dataTable, element);\n",
       "        const docLink = document.createElement('div');\n",
       "        docLink.innerHTML = docLinkHtml;\n",
       "        element.appendChild(docLink);\n",
       "      }\n",
       "    </script>\n",
       "  </div>\n",
       "\n",
       "\n",
       "<div id=\"df-265e97a8-705b-4ae1-85e9-f33362029b7d\">\n",
       "  <button class=\"colab-df-quickchart\" onclick=\"quickchart('df-265e97a8-705b-4ae1-85e9-f33362029b7d')\"\n",
       "            title=\"Suggest charts\"\n",
       "            style=\"display:none;\">\n",
       "\n",
       "<svg xmlns=\"http://www.w3.org/2000/svg\" height=\"24px\"viewBox=\"0 0 24 24\"\n",
       "     width=\"24px\">\n",
       "    <g>\n",
       "        <path d=\"M19 3H5c-1.1 0-2 .9-2 2v14c0 1.1.9 2 2 2h14c1.1 0 2-.9 2-2V5c0-1.1-.9-2-2-2zM9 17H7v-7h2v7zm4 0h-2V7h2v10zm4 0h-2v-4h2v4z\"/>\n",
       "    </g>\n",
       "</svg>\n",
       "  </button>\n",
       "\n",
       "<style>\n",
       "  .colab-df-quickchart {\n",
       "      --bg-color: #E8F0FE;\n",
       "      --fill-color: #1967D2;\n",
       "      --hover-bg-color: #E2EBFA;\n",
       "      --hover-fill-color: #174EA6;\n",
       "      --disabled-fill-color: #AAA;\n",
       "      --disabled-bg-color: #DDD;\n",
       "  }\n",
       "\n",
       "  [theme=dark] .colab-df-quickchart {\n",
       "      --bg-color: #3B4455;\n",
       "      --fill-color: #D2E3FC;\n",
       "      --hover-bg-color: #434B5C;\n",
       "      --hover-fill-color: #FFFFFF;\n",
       "      --disabled-bg-color: #3B4455;\n",
       "      --disabled-fill-color: #666;\n",
       "  }\n",
       "\n",
       "  .colab-df-quickchart {\n",
       "    background-color: var(--bg-color);\n",
       "    border: none;\n",
       "    border-radius: 50%;\n",
       "    cursor: pointer;\n",
       "    display: none;\n",
       "    fill: var(--fill-color);\n",
       "    height: 32px;\n",
       "    padding: 0;\n",
       "    width: 32px;\n",
       "  }\n",
       "\n",
       "  .colab-df-quickchart:hover {\n",
       "    background-color: var(--hover-bg-color);\n",
       "    box-shadow: 0 1px 2px rgba(60, 64, 67, 0.3), 0 1px 3px 1px rgba(60, 64, 67, 0.15);\n",
       "    fill: var(--button-hover-fill-color);\n",
       "  }\n",
       "\n",
       "  .colab-df-quickchart-complete:disabled,\n",
       "  .colab-df-quickchart-complete:disabled:hover {\n",
       "    background-color: var(--disabled-bg-color);\n",
       "    fill: var(--disabled-fill-color);\n",
       "    box-shadow: none;\n",
       "  }\n",
       "\n",
       "  .colab-df-spinner {\n",
       "    border: 2px solid var(--fill-color);\n",
       "    border-color: transparent;\n",
       "    border-bottom-color: var(--fill-color);\n",
       "    animation:\n",
       "      spin 1s steps(1) infinite;\n",
       "  }\n",
       "\n",
       "  @keyframes spin {\n",
       "    0% {\n",
       "      border-color: transparent;\n",
       "      border-bottom-color: var(--fill-color);\n",
       "      border-left-color: var(--fill-color);\n",
       "    }\n",
       "    20% {\n",
       "      border-color: transparent;\n",
       "      border-left-color: var(--fill-color);\n",
       "      border-top-color: var(--fill-color);\n",
       "    }\n",
       "    30% {\n",
       "      border-color: transparent;\n",
       "      border-left-color: var(--fill-color);\n",
       "      border-top-color: var(--fill-color);\n",
       "      border-right-color: var(--fill-color);\n",
       "    }\n",
       "    40% {\n",
       "      border-color: transparent;\n",
       "      border-right-color: var(--fill-color);\n",
       "      border-top-color: var(--fill-color);\n",
       "    }\n",
       "    60% {\n",
       "      border-color: transparent;\n",
       "      border-right-color: var(--fill-color);\n",
       "    }\n",
       "    80% {\n",
       "      border-color: transparent;\n",
       "      border-right-color: var(--fill-color);\n",
       "      border-bottom-color: var(--fill-color);\n",
       "    }\n",
       "    90% {\n",
       "      border-color: transparent;\n",
       "      border-bottom-color: var(--fill-color);\n",
       "    }\n",
       "  }\n",
       "</style>\n",
       "\n",
       "  <script>\n",
       "    async function quickchart(key) {\n",
       "      const quickchartButtonEl =\n",
       "        document.querySelector('#' + key + ' button');\n",
       "      quickchartButtonEl.disabled = true;  // To prevent multiple clicks.\n",
       "      quickchartButtonEl.classList.add('colab-df-spinner');\n",
       "      try {\n",
       "        const charts = await google.colab.kernel.invokeFunction(\n",
       "            'suggestCharts', [key], {});\n",
       "      } catch (error) {\n",
       "        console.error('Error during call to suggestCharts:', error);\n",
       "      }\n",
       "      quickchartButtonEl.classList.remove('colab-df-spinner');\n",
       "      quickchartButtonEl.classList.add('colab-df-quickchart-complete');\n",
       "    }\n",
       "    (() => {\n",
       "      let quickchartButtonEl =\n",
       "        document.querySelector('#df-265e97a8-705b-4ae1-85e9-f33362029b7d button');\n",
       "      quickchartButtonEl.style.display =\n",
       "        google.colab.kernel.accessAllowed ? 'block' : 'none';\n",
       "    })();\n",
       "  </script>\n",
       "</div>\n",
       "\n",
       "    </div>\n",
       "  </div>\n"
      ],
      "text/plain": [
       "                                text_without_stopwords      0      1      2  \\\n",
       "24   share president obama signed executive order d...  False   True  False   \n",
       "25   united states marine field mcconnell plum city...  False   True  False   \n",
       "167  melissa dykes oligarchy runs society problem r...   True  False  False   \n",
       "168  jay syrmopoulos pipeline opponents attempting ...   True  False  False   \n",
       "169  learn liberty anonymity shield tyranny majorit...   True  False  False   \n",
       "\n",
       "         3      4  \n",
       "24   False  False  \n",
       "25   False  False  \n",
       "167  False  False  \n",
       "168  False  False  \n",
       "169  False  False  "
      ]
     },
     "execution_count": 11,
     "metadata": {},
     "output_type": "execute_result"
    }
   ],
   "source": [
    "second_dataset.head()"
   ]
  },
  {
   "cell_type": "markdown",
   "metadata": {
    "id": "njGyroCFH-NM"
   },
   "source": [
    "## GLove embedding"
   ]
  },
  {
   "cell_type": "code",
   "execution_count": 13,
   "metadata": {
    "id": "tKb8IHfrH-NM"
   },
   "outputs": [],
   "source": [
    "# Load pre-trained GloVe embeddings\n",
    "glove = GloVe(name='6B', dim=100)\n",
    "\n",
    "class NewsArticleDataset(Dataset):\n",
    "    def __init__(self, text, label):\n",
    "        self.text = text\n",
    "        self.label = label\n",
    "        self.max_length = 22565\n",
    "\n",
    "    def __len__(self):\n",
    "        return len(self.text)\n",
    "\n",
    "    def __getitem__(self, idx):\n",
    "        text = self.text[idx]\n",
    "        label = self.label[idx]\n",
    "        # Convert text to numerical vectors using pre-trained word embeddings (GloVe)\n",
    "        vectorized_text = [glove[word] for word in text if word in glove.stoi]\n",
    "        # if not vectorized_text:\n",
    "        #     vectorized_text = [torch.zeros(100)]  # Use zero vector if no valid embeddings are found\n",
    "        # return torch.stack(vectorized_text), torch.tensor(label, dtype=torch.float)\n",
    "        if len(vectorized_text) < self.max_length:\n",
    "            # Pad the vectorized text if it is shorter than the maximum length\n",
    "            padding = [torch.zeros(100)] * (self.max_length - len(vectorized_text))\n",
    "            vectorized_text.extend(padding)\n",
    "\n",
    "        return torch.stack(vectorized_text), torch.tensor(label, dtype=torch.float)\n",
    "\n",
    "\n",
    "dataset = NewsArticleDataset(spacy_tinputs, second_dataset.iloc[:, -5:].values)\n",
    "# dataset = NewsArticleDataset(spacy_tinputs, label_y.values)\n",
    "# print(dataset.shape)"
   ]
  },
  {
   "cell_type": "code",
   "execution_count": 14,
   "metadata": {
    "colab": {
     "base_uri": "https://localhost:8080/"
    },
    "id": "Vj4LZYTRH-NM",
    "outputId": "ac9bc14b-a3da-4a98-9a08-510dd6e4c9dc"
   },
   "outputs": [
    {
     "name": "stdout",
     "output_type": "stream",
     "text": [
      "1063\n",
      "851\n"
     ]
    }
   ],
   "source": [
    "batch_size = 32\n",
    "validation_split = .1\n",
    "test_split = .1\n",
    "shuffle_dataset = True\n",
    "random_seed= 42\n",
    "\n",
    "\n",
    "\n",
    "# vocab_list = create_vocab()\n",
    "\n",
    "# Creating data indices for training and validation splits:\n",
    "dataset_size = len(dataset)\n",
    "print(dataset_size)\n",
    "indices = list(range(dataset_size))\n",
    "split = int(np.floor(validation_split * dataset_size))\n",
    "if shuffle_dataset :\n",
    "    np.random.seed(random_seed)\n",
    "    np.random.shuffle(indices)\n",
    "\n",
    "train_indices, test_indices, val_indices = indices[2*split:], indices[:split], indices[split:split*2]\n",
    "\n",
    "print(len(train_indices))\n",
    "\n",
    "def collate_fn(batch):\n",
    "    # print(len(batch), batch[1].shape)\n",
    "    texts, labels = zip(*batch)\n",
    "    padded_texts = pad_sequence(texts, batch_first=True, padding_value=0)\n",
    "    return padded_texts, labels\n",
    "\n",
    "\n",
    "# Creating PT data samplers and loaders:\n",
    "train_sampler = SubsetRandomSampler(train_indices)\n",
    "valid_sampler = SubsetRandomSampler(val_indices)\n",
    "test_sampler = SubsetRandomSampler(test_indices)\n",
    "\n",
    "train_loader = DataLoader(dataset, batch_size=batch_size,\n",
    "                                           sampler=train_sampler, collate_fn=collate_fn ,drop_last=True)\n",
    "\n",
    "validation_loader = DataLoader(dataset, batch_size=batch_size,\n",
    "                                                sampler=valid_sampler, collate_fn= collate_fn, drop_last=True)\n",
    "\n",
    "test_loader = DataLoader(dataset, batch_size=batch_size, sampler=test_sampler)"
   ]
  },
  {
   "cell_type": "code",
   "execution_count": 15,
   "metadata": {
    "colab": {
     "base_uri": "https://localhost:8080/"
    },
    "id": "RV_90iIyH-NN",
    "outputId": "b7507afe-b8b8-4bd8-c38d-4fc03418f6ff"
   },
   "outputs": [
    {
     "data": {
      "text/plain": [
       "26"
      ]
     },
     "execution_count": 15,
     "metadata": {},
     "output_type": "execute_result"
    }
   ],
   "source": [
    "len(train_loader)"
   ]
  },
  {
   "cell_type": "code",
   "execution_count": 17,
   "metadata": {
    "colab": {
     "base_uri": "https://localhost:8080/"
    },
    "id": "sbRgMNvgH-NS",
    "outputId": "df574f81-0b24-4d7e-caa9-c620ace5bf28"
   },
   "outputs": [
    {
     "name": "stdout",
     "output_type": "stream",
     "text": [
      "cuda\n"
     ]
    }
   ],
   "source": [
    "device = torch.device('cuda' if torch.cuda.is_available() else 'cpu')\n",
    "# device = torch.device('cpu')\n",
    "print(device)"
   ]
  },
  {
   "cell_type": "markdown",
   "metadata": {},
   "source": [
    "## 2nd Model"
   ]
  },
  {
   "cell_type": "code",
   "execution_count": 34,
   "metadata": {
    "id": "W_VyjYd0H-NS"
   },
   "outputs": [],
   "source": [
    "class LSTMModel(nn.Module):\n",
    "    def __init__(self, hidden_size, num_layers, vocab_size, embedding_dim, dropout, num_classes=5):\n",
    "        super(LSTMModel, self).__init__()\n",
    "        self.lstm = nn.LSTM(input_size=embedding_dim, hidden_size=hidden_size,\n",
    "                            num_layers=num_layers, batch_first=True)\n",
    "\n",
    "        self.fc_1 = nn.Linear(hidden_size, 32)\n",
    "        self.fc = nn.Linear(32, num_classes)  # Update output size to match the number of classes\n",
    "        self.relu = nn.ReLU()\n",
    "        self.sigmoid = nn.Sigmoid()\n",
    "        self.num_classes = num_classes\n",
    "        self.num_layers = num_layers\n",
    "        self.hidden_size = hidden_size\n",
    "        self.dropout = nn.Dropout(dropout)\n",
    "\n",
    "        # Use CrossEntropyLoss for multi-class classification\n",
    "        self.loss = nn.CrossEntropyLoss() # Use Accuracy metric for multi-class classification\n",
    "        self.accuracy = MulticlassAccuracy(num_classes)\n",
    "\n",
    "    def forward(self, inputs):\n",
    "        out, (hidden, cell) = self.lstm(inputs)\n",
    "        hidden = hidden[-1]\n",
    "        out = self.relu(hidden)\n",
    "        # out = self.sigmoid(hidden)\n",
    "        out1 = self.fc_1(out)\n",
    "        out2 = self.relu(out1)\n",
    "        out3 = self.fc(out2)\n",
    "        return out3\n",
    "\n",
    "    def accuracy(self, outputs, labels):\n",
    "        # Convert predicted probabilities to predicted class labels\n",
    "        _, predicted_labels = torch.max(outputs, dim=1)\n",
    "\n",
    "        # Convert tensors to numpy arrays\n",
    "        predicted_labels = predicted_labels.cpu().numpy()\n",
    "        labels = labels.cpu().numpy()\n",
    "\n",
    "        # Convert one-hot encoded labels to class labels\n",
    "        true_labels = np.argmax(labels, axis=1)\n",
    "\n",
    "        # Compute accuracy\n",
    "        acc = accuracy_score(true_labels, predicted_labels)\n",
    "        return acc\n",
    "\n",
    "    def multiclass_precision(self, y_pred, y_true):\n",
    "        y_true = y_true.argmax(dim=1)  # Convert one-hot encoded labels to class indices\n",
    "        y_pred = y_pred.argmax(dim=1)  # Get the predicted class indices\n",
    "\n",
    "        precision_scores = []\n",
    "        for class_idx in range(self.num_classes):\n",
    "            tp = ((y_true == class_idx) & (y_pred == class_idx)).sum().item()\n",
    "            fp = ((y_true != class_idx) & (y_pred == class_idx)).sum().item()\n",
    "\n",
    "            epsilon = 1e-7\n",
    "            precision = tp / (tp + fp + epsilon)\n",
    "            precision_scores.append(precision)\n",
    "\n",
    "        return sum(precision_scores) / self.num_classes\n",
    "\n",
    "    def multiclass_recall(self, y_pred, y_true):\n",
    "        y_true = y_true.argmax(dim=1)  # Convert one-hot encoded labels to class indices\n",
    "        y_pred = y_pred.argmax(dim=1)  # Get the predicted class indices\n",
    "\n",
    "        recall_scores = []\n",
    "        for class_idx in range(self.num_classes):\n",
    "            tp = ((y_true == class_idx) & (y_pred == class_idx)).sum().item()\n",
    "            fn = ((y_true == class_idx) & (y_pred != class_idx)).sum().item()\n",
    "\n",
    "            epsilon = 1e-7\n",
    "            recall = tp / (tp + fn + epsilon)\n",
    "            recall_scores.append(recall)\n",
    "\n",
    "        return sum(recall_scores) / self.num_classes\n",
    "\n",
    "    def multiclass_f1_score(self, y_pred, y_true):\n",
    "        y_true = y_true.argmax(dim=1)  # Convert one-hot encoded labels to class indices\n",
    "        y_pred = y_pred.argmax(dim=1)  # Get the predicted class indices\n",
    "\n",
    "        f1_scores = []\n",
    "        for class_idx in range(self.num_classes):\n",
    "            tp = ((y_true == class_idx) & (y_pred == class_idx)).sum().item()\n",
    "            fp = ((y_true != class_idx) & (y_pred == class_idx)).sum().item()\n",
    "            fn = ((y_true == class_idx) & (y_pred != class_idx)).sum().item()\n",
    "\n",
    "            epsilon = 1e-7\n",
    "            precision = tp / (tp + fp + epsilon)\n",
    "            recall = tp / (tp + fn + epsilon)\n",
    "            f1 = 2 * (precision * recall) / (precision + recall + epsilon)\n",
    "            f1_scores.append(f1)\n",
    "\n",
    "        return sum(f1_scores) / self.num_classes"
   ]
  },
  {
   "cell_type": "code",
   "execution_count": 37,
   "metadata": {
    "id": "jI3frFPHH-NT"
   },
   "outputs": [],
   "source": [
    "# input_size = 1 # number of features\n",
    "hidden_size = 64\n",
    "num_layers = 2\n",
    "embedding_dim = 100\n",
    "dropout = 0.2\n",
    "num_epochs = 10\n",
    "vocab_size = len(unique_tokens)\n",
    "lstm_model = LSTMModel(hidden_size,num_layers, vocab_size, embedding_dim, dropout, 5).to(device)"
   ]
  },
  {
   "cell_type": "code",
   "execution_count": 35,
   "metadata": {
    "colab": {
     "base_uri": "https://localhost:8080/"
    },
    "id": "mcWskZNtH-NT",
    "outputId": "d18be769-f01e-4fbd-8902-b478f9ecc37f"
   },
   "outputs": [
    {
     "name": "stdout",
     "output_type": "stream",
     "text": [
      "LSTMModel(\n",
      "  (lstm): LSTM(100, 64, num_layers=2, batch_first=True)\n",
      "  (fc_1): Linear(in_features=64, out_features=32, bias=True)\n",
      "  (fc): Linear(in_features=32, out_features=5, bias=True)\n",
      "  (relu): ReLU()\n",
      "  (sigmoid): Sigmoid()\n",
      "  (dropout): Dropout(p=0.2, inplace=False)\n",
      "  (loss): CrossEntropyLoss()\n",
      "  (accuracy): MulticlassAccuracy()\n",
      ")\n"
     ]
    }
   ],
   "source": [
    "print(lstm_model)"
   ]
  },
  {
   "cell_type": "code",
   "execution_count": 36,
   "metadata": {
    "id": "MTcGA5QSH-NT"
   },
   "outputs": [],
   "source": [
    "learning_rate = 0.001\n",
    "num_epochs = 10\n",
    "# criterion = torch.nn.MSELoss()\n",
    "# optimizer = torch.optim.Adam(lstm_model.parameters(), lr=learning_rate)\n",
    "optimizer = torch.optim.RMSprop(lstm_model.parameters(), lr=learning_rate)"
   ]
  },
  {
   "cell_type": "code",
   "execution_count": 38,
   "metadata": {
    "colab": {
     "base_uri": "https://localhost:8080/",
     "height": 1000,
     "referenced_widgets": [
      "f2e87c00e12a44eb9e1ae02408e2a88e",
      "652968ad766a4de38dae03432f2f0f91",
      "7f24ccf3c6f34c6ebff78fd5975761da",
      "f6712b78bd3e4f4fa67f540aa79ea740",
      "e9e653cae83343ff880d76f48d657b13",
      "0466fe49908248bf9c9635627050d5ce",
      "3614f5e05d664deabd68b147ddf44cac",
      "1dabad943a7c4a1f93048000110e2043",
      "fe659ef60f444879bb9aa6229447cba2",
      "ba976552588a4ab0abc1cd960fc48190",
      "ca75694c71b044c7a61a8aefb03dbf08"
     ]
    },
    "id": "BKOQJUkBH-NT",
    "outputId": "0ed05f54-37c3-4f18-d68a-8f8d20a3b9ed"
   },
   "outputs": [
    {
     "data": {
      "application/vnd.jupyter.widget-view+json": {
       "model_id": "f2e87c00e12a44eb9e1ae02408e2a88e",
       "version_major": 2,
       "version_minor": 0
      },
      "text/plain": [
       "  0%|          | 0/10 [00:00<?, ?it/s]"
      ]
     },
     "metadata": {},
     "output_type": "display_data"
    },
    {
     "name": "stdout",
     "output_type": "stream",
     "text": [
      "Test loss: 1.6399, Test Accuracy: 0.2000\n",
      "Test Precision: 0.0400, Test F1: 0.0667, Test recall: 0.2000\n",
      "Saving best model with test loss: 1.6399\n",
      "Epoch [1/10], Training loss: 1.6241, Training Accuracy: 0.1562\n",
      "Training Precision: 0.0312, Training F1: 0.0541, Training recall: 0.2000\n",
      "Test loss: 1.6478, Test Accuracy: 0.1000\n",
      "Test Precision: 0.0200, Test F1: 0.0364, Test recall: 0.2000\n",
      "Epoch [2/10], Training loss: 1.6645, Training Accuracy: 0.0312\n",
      "Training Precision: 0.0062, Training F1: 0.0121, Training recall: 0.2000\n",
      "Test loss: 1.6447, Test Accuracy: 0.1000\n",
      "Test Precision: 0.0200, Test F1: 0.0364, Test recall: 0.2000\n",
      "Epoch [3/10], Training loss: 1.6352, Training Accuracy: 0.1250\n",
      "Training Precision: 0.0250, Training F1: 0.0444, Training recall: 0.2000\n",
      "Test loss: 1.6414, Test Accuracy: 0.2000\n",
      "Test Precision: 0.0400, Test F1: 0.0667, Test recall: 0.2000\n",
      "Epoch [4/10], Training loss: 1.6417, Training Accuracy: 0.0625\n",
      "Training Precision: 0.0125, Training F1: 0.0235, Training recall: 0.2000\n",
      "Test loss: 1.6393, Test Accuracy: 0.4000\n",
      "Test Precision: 0.0800, Test F1: 0.1143, Test recall: 0.2000\n",
      "Saving best model with test loss: 1.6393\n",
      "Epoch [5/10], Training loss: 1.6344, Training Accuracy: 0.1562\n",
      "Training Precision: 0.0312, Training F1: 0.0541, Training recall: 0.2000\n",
      "Test loss: 1.6429, Test Accuracy: 0.2000\n",
      "Test Precision: 0.0400, Test F1: 0.0667, Test recall: 0.2000\n",
      "Epoch [6/10], Training loss: 1.6434, Training Accuracy: 0.1250\n",
      "Training Precision: 0.0250, Training F1: 0.0444, Training recall: 0.2000\n",
      "Test loss: 1.6495, Test Accuracy: 0.0000\n",
      "Test Precision: 0.0000, Test F1: 0.0000, Test recall: 0.0000\n",
      "Epoch [7/10], Training loss: 1.6404, Training Accuracy: 0.1250\n",
      "Training Precision: 0.0250, Training F1: 0.0444, Training recall: 0.2000\n",
      "Test loss: 1.6522, Test Accuracy: 0.1000\n",
      "Test Precision: 0.0200, Test F1: 0.0364, Test recall: 0.2000\n",
      "Epoch [8/10], Training loss: 1.6441, Training Accuracy: 0.0938\n",
      "Training Precision: 0.0187, Training F1: 0.0343, Training recall: 0.2000\n",
      "Test loss: 1.6368, Test Accuracy: 0.3000\n",
      "Test Precision: 0.0600, Test F1: 0.0923, Test recall: 0.2000\n",
      "Saving best model with test loss: 1.6368\n",
      "Epoch [9/10], Training loss: 1.6333, Training Accuracy: 0.0938\n",
      "Training Precision: 0.0187, Training F1: 0.0343, Training recall: 0.2000\n",
      "Test loss: 1.6510, Test Accuracy: 0.0000\n",
      "Test Precision: 0.0000, Test F1: 0.0000, Test recall: 0.0000\n",
      "Epoch [10/10], Training loss: 1.6424, Training Accuracy: 0.1562\n",
      "Training Precision: 0.0312, Training F1: 0.0541, Training recall: 0.2000\n"
     ]
    },
    {
     "data": {
      "image/png": "[encoded data removed]",
      "text/plain": [
       "<Figure size 640x480 with 1 Axes>"
      ]
     },
     "metadata": {},
     "output_type": "display_data"
    }
   ],
   "source": [
    "test_loss_list = []\n",
    "loss_list = []\n",
    "epoch_list = []\n",
    "\n",
    "def train(train_loader, test_loader):\n",
    "    best_loss = 100\n",
    "    for epoch in tqdm(range(num_epochs)):\n",
    "        lstm_model.train()\n",
    "        for batch in train_loader:\n",
    "\n",
    "            optimizer.zero_grad()\n",
    "            texts, labels = batch\n",
    "            labels = torch.stack(labels)\n",
    "            texts = texts.to(device)\n",
    "            labels = labels.to(device)\n",
    "\n",
    "\n",
    "            # forward pass\n",
    "            outputs = lstm_model.forward(texts).to(device)\n",
    "            # print(outputs.shape)\n",
    "            labels =labels.to(torch.float).to(device)\n",
    "\n",
    "            # loss\n",
    "            loss = lstm_model.loss(outputs, labels)\n",
    "            binary_acc = lstm_model.accuracy(outputs, labels)\n",
    "            binary_pre = lstm_model.multiclass_precision(outputs, labels)\n",
    "            binary_f1 = lstm_model.multiclass_f1_score(outputs, labels)\n",
    "            binary_rec = lstm_model.multiclass_recall(outputs, labels)\n",
    "\n",
    "            # back prop\n",
    "            loss.backward()\n",
    "            optimizer.step()\n",
    "\n",
    "        test_loss = evaluate(test_loader)\n",
    "        if test_loss < best_loss:\n",
    "            best_loss = test_loss\n",
    "            best_model_weights = lstm_model.state_dict()\n",
    "            torch.save(best_model_weights, 'glove_adam_model_2.pt')\n",
    "            print(f'Saving best model with test loss: {best_loss:.4f}')\n",
    "        print(f'Epoch [{epoch+1}/{num_epochs}], Training loss: {loss.item():.4f}, Training Accuracy: {binary_acc:.4f}')\n",
    "        print(f'Training Precision: {binary_pre:.4f}, Training F1: {binary_f1:.4f}, Training recall: {binary_rec:.4f}')\n",
    "        loss_list.append(loss.item())\n",
    "\n",
    "def evaluate(loader):\n",
    "    test_loss_list = []\n",
    "    lstm_model.eval()\n",
    "    for batch in loader:\n",
    "        with torch.no_grad():\n",
    "            # print(batch)\n",
    "            texts, labels = batch\n",
    "            texts = texts.to(device)\n",
    "\n",
    "            # forward pass\n",
    "            outputs = lstm_model.forward(texts).to(device)\n",
    "\n",
    "\n",
    "            labels =labels.to(torch.float).to(device)\n",
    "            loss = lstm_model.loss(outputs, labels)\n",
    "            binary_acc = lstm_model.accuracy(outputs, labels)\n",
    "            binary_pre = lstm_model.multiclass_precision(outputs, labels)\n",
    "            binary_f1 = lstm_model.multiclass_f1_score(outputs, labels)\n",
    "            binary_rec = lstm_model.multiclass_recall(outputs, labels)\n",
    "\n",
    "            test_loss_list.append(loss)\n",
    "\n",
    "    avg_loss = sum(test_loss_list) / len(loader)\n",
    "    print(f'Test loss: {avg_loss.item():.4f}, Test Accuracy: {binary_acc:.4f}')\n",
    "    print(f'Test Precision: {binary_pre:.4f}, Test F1: {binary_f1:.4f}, Test recall: {binary_rec:.4f}')\n",
    "\n",
    "    return avg_loss\n",
    "\n",
    "train(train_loader, test_loader)\n",
    "epoch_list = [i for i in range(len(loss_list))]\n",
    "plt.plot(epoch_list, loss_list)\n",
    "plt.show()"
   ]
  },
  {
   "cell_type": "code",
   "execution_count": null,
   "metadata": {
    "id": "sDtKQl08H-NU"
   },
   "outputs": [],
   "source": []
  }
 ],
 "metadata": {
  "accelerator": "GPU",
  "colab": {
   "gpuType": "T4",
   "provenance": []
  },
  "kernelspec": {
   "display_name": "Python 3 (ipykernel)",
   "language": "python",
   "name": "python3"
  },
  "language_info": {
   "codemirror_mode": {
    "name": "ipython",
    "version": 3
   },
   "file_extension": ".py",
   "mimetype": "text/x-python",
   "name": "python",
   "nbconvert_exporter": "python",
   "pygments_lexer": "ipython3",
   "version": "3.11.6"
  },
  "widgets": {
   "application/vnd.jupyter.widget-state+json": {
    "0466fe49908248bf9c9635627050d5ce": {
     "model_module": "@jupyter-widgets/base",
     "model_module_version": "1.2.0",
     "model_name": "LayoutModel",
     "state": {
      "_model_module": "@jupyter-widgets/base",
      "_model_module_version": "1.2.0",
      "_model_name": "LayoutModel",
      "_view_count": null,
      "_view_module": "@jupyter-widgets/base",
      "_view_module_version": "1.2.0",
      "_view_name": "LayoutView",
      "align_content": null,
      "align_items": null,
      "align_self": null,
      "border": null,
      "bottom": null,
      "display": null,
      "flex": null,
      "flex_flow": null,
      "grid_area": null,
      "grid_auto_columns": null,
      "grid_auto_flow": null,
      "grid_auto_rows": null,
      "grid_column": null,
      "grid_gap": null,
      "grid_row": null,
      "grid_template_areas": null,
      "grid_template_columns": null,
      "grid_template_rows": null,
      "height": null,
      "justify_content": null,
      "justify_items": null,
      "left": null,
      "margin": null,
      "max_height": null,
      "max_width": null,
      "min_height": null,
      "min_width": null,
      "object_fit": null,
      "object_position": null,
      "order": null,
      "overflow": null,
      "overflow_x": null,
      "overflow_y": null,
      "padding": null,
      "right": null,
      "top": null,
      "visibility": null,
      "width": null
     }
    },
    "1dabad943a7c4a1f93048000110e2043": {
     "model_module": "@jupyter-widgets/base",
     "model_module_version": "1.2.0",
     "model_name": "LayoutModel",
     "state": {
      "_model_module": "@jupyter-widgets/base",
      "_model_module_version": "1.2.0",
      "_model_name": "LayoutModel",
      "_view_count": null,
      "_view_module": "@jupyter-widgets/base",
      "_view_module_version": "1.2.0",
      "_view_name": "LayoutView",
      "align_content": null,
      "align_items": null,
      "align_self": null,
      "border": null,
      "bottom": null,
      "display": null,
      "flex": null,
      "flex_flow": null,
      "grid_area": null,
      "grid_auto_columns": null,
      "grid_auto_flow": null,
      "grid_auto_rows": null,
      "grid_column": null,
      "grid_gap": null,
      "grid_row": null,
      "grid_template_areas": null,
      "grid_template_columns": null,
      "grid_template_rows": null,
      "height": null,
      "justify_content": null,
      "justify_items": null,
      "left": null,
      "margin": null,
      "max_height": null,
      "max_width": null,
      "min_height": null,
      "min_width": null,
      "object_fit": null,
      "object_position": null,
      "order": null,
      "overflow": null,
      "overflow_x": null,
      "overflow_y": null,
      "padding": null,
      "right": null,
      "top": null,
      "visibility": null,
      "width": null
     }
    },
    "21974db1f4cc4407bfb34473bf64f69e": {
     "model_module": "@jupyter-widgets/controls",
     "model_module_version": "1.5.0",
     "model_name": "FloatProgressModel",
     "state": {
      "_dom_classes": [],
      "_model_module": "@jupyter-widgets/controls",
      "_model_module_version": "1.5.0",
      "_model_name": "FloatProgressModel",
      "_view_count": null,
      "_view_module": "@jupyter-widgets/controls",
      "_view_module_version": "1.5.0",
      "_view_name": "ProgressView",
      "bar_style": "",
      "description": "",
      "description_tooltip": null,
      "layout": "IPY_MODEL_983c5082468940d698d8720dcc5c3aca",
      "max": 10,
      "min": 0,
      "orientation": "horizontal",
      "style": "IPY_MODEL_b3672a7148f1421d9be52eace77db098",
      "value": 0
     }
    },
    "3614f5e05d664deabd68b147ddf44cac": {
     "model_module": "@jupyter-widgets/controls",
     "model_module_version": "1.5.0",
     "model_name": "DescriptionStyleModel",
     "state": {
      "_model_module": "@jupyter-widgets/controls",
      "_model_module_version": "1.5.0",
      "_model_name": "DescriptionStyleModel",
      "_view_count": null,
      "_view_module": "@jupyter-widgets/base",
      "_view_module_version": "1.2.0",
      "_view_name": "StyleView",
      "description_width": ""
     }
    },
    "652968ad766a4de38dae03432f2f0f91": {
     "model_module": "@jupyter-widgets/controls",
     "model_module_version": "1.5.0",
     "model_name": "HTMLModel",
     "state": {
      "_dom_classes": [],
      "_model_module": "@jupyter-widgets/controls",
      "_model_module_version": "1.5.0",
      "_model_name": "HTMLModel",
      "_view_count": null,
      "_view_module": "@jupyter-widgets/controls",
      "_view_module_version": "1.5.0",
      "_view_name": "HTMLView",
      "description": "",
      "description_tooltip": null,
      "layout": "IPY_MODEL_0466fe49908248bf9c9635627050d5ce",
      "placeholder": "​",
      "style": "IPY_MODEL_3614f5e05d664deabd68b147ddf44cac",
      "value": "100%"
     }
    },
    "7f24ccf3c6f34c6ebff78fd5975761da": {
     "model_module": "@jupyter-widgets/controls",
     "model_module_version": "1.5.0",
     "model_name": "FloatProgressModel",
     "state": {
      "_dom_classes": [],
      "_model_module": "@jupyter-widgets/controls",
      "_model_module_version": "1.5.0",
      "_model_name": "FloatProgressModel",
      "_view_count": null,
      "_view_module": "@jupyter-widgets/controls",
      "_view_module_version": "1.5.0",
      "_view_name": "ProgressView",
      "bar_style": "success",
      "description": "",
      "description_tooltip": null,
      "layout": "IPY_MODEL_1dabad943a7c4a1f93048000110e2043",
      "max": 10,
      "min": 0,
      "orientation": "horizontal",
      "style": "IPY_MODEL_fe659ef60f444879bb9aa6229447cba2",
      "value": 10
     }
    },
    "80a9ce11346b488d81ba6689d00ce9a5": {
     "model_module": "@jupyter-widgets/controls",
     "model_module_version": "1.5.0",
     "model_name": "HBoxModel",
     "state": {
      "_dom_classes": [],
      "_model_module": "@jupyter-widgets/controls",
      "_model_module_version": "1.5.0",
      "_model_name": "HBoxModel",
      "_view_count": null,
      "_view_module": "@jupyter-widgets/controls",
      "_view_module_version": "1.5.0",
      "_view_name": "HBoxView",
      "box_style": "",
      "children": [
       "IPY_MODEL_984240726a8b478099b4c1d4f458368c",
       "IPY_MODEL_21974db1f4cc4407bfb34473bf64f69e",
       "IPY_MODEL_f0777c7ed22048f9a7c58021e29f7ee1"
      ],
      "layout": "IPY_MODEL_e02da7e120b64eee8755a217a4ad5d00"
     }
    },
    "8d9ca40ad4dc4583b1d01a2c03060569": {
     "model_module": "@jupyter-widgets/controls",
     "model_module_version": "1.5.0",
     "model_name": "DescriptionStyleModel",
     "state": {
      "_model_module": "@jupyter-widgets/controls",
      "_model_module_version": "1.5.0",
      "_model_name": "DescriptionStyleModel",
      "_view_count": null,
      "_view_module": "@jupyter-widgets/base",
      "_view_module_version": "1.2.0",
      "_view_name": "StyleView",
      "description_width": ""
     }
    },
    "983c5082468940d698d8720dcc5c3aca": {
     "model_module": "@jupyter-widgets/base",
     "model_module_version": "1.2.0",
     "model_name": "LayoutModel",
     "state": {
      "_model_module": "@jupyter-widgets/base",
      "_model_module_version": "1.2.0",
      "_model_name": "LayoutModel",
      "_view_count": null,
      "_view_module": "@jupyter-widgets/base",
      "_view_module_version": "1.2.0",
      "_view_name": "LayoutView",
      "align_content": null,
      "align_items": null,
      "align_self": null,
      "border": null,
      "bottom": null,
      "display": null,
      "flex": null,
      "flex_flow": null,
      "grid_area": null,
      "grid_auto_columns": null,
      "grid_auto_flow": null,
      "grid_auto_rows": null,
      "grid_column": null,
      "grid_gap": null,
      "grid_row": null,
      "grid_template_areas": null,
      "grid_template_columns": null,
      "grid_template_rows": null,
      "height": null,
      "justify_content": null,
      "justify_items": null,
      "left": null,
      "margin": null,
      "max_height": null,
      "max_width": null,
      "min_height": null,
      "min_width": null,
      "object_fit": null,
      "object_position": null,
      "order": null,
      "overflow": null,
      "overflow_x": null,
      "overflow_y": null,
      "padding": null,
      "right": null,
      "top": null,
      "visibility": null,
      "width": null
     }
    },
    "984240726a8b478099b4c1d4f458368c": {
     "model_module": "@jupyter-widgets/controls",
     "model_module_version": "1.5.0",
     "model_name": "HTMLModel",
     "state": {
      "_dom_classes": [],
      "_model_module": "@jupyter-widgets/controls",
      "_model_module_version": "1.5.0",
      "_model_name": "HTMLModel",
      "_view_count": null,
      "_view_module": "@jupyter-widgets/controls",
      "_view_module_version": "1.5.0",
      "_view_name": "HTMLView",
      "description": "",
      "description_tooltip": null,
      "layout": "IPY_MODEL_b904faf766a642bc8e3b8b0107e0cbbd",
      "placeholder": "​",
      "style": "IPY_MODEL_8d9ca40ad4dc4583b1d01a2c03060569",
      "value": "  0%"
     }
    },
    "a0b03762c4bd49a29d94f930eea45a56": {
     "model_module": "@jupyter-widgets/controls",
     "model_module_version": "1.5.0",
     "model_name": "DescriptionStyleModel",
     "state": {
      "_model_module": "@jupyter-widgets/controls",
      "_model_module_version": "1.5.0",
      "_model_name": "DescriptionStyleModel",
      "_view_count": null,
      "_view_module": "@jupyter-widgets/base",
      "_view_module_version": "1.2.0",
      "_view_name": "StyleView",
      "description_width": ""
     }
    },
    "b3672a7148f1421d9be52eace77db098": {
     "model_module": "@jupyter-widgets/controls",
     "model_module_version": "1.5.0",
     "model_name": "ProgressStyleModel",
     "state": {
      "_model_module": "@jupyter-widgets/controls",
      "_model_module_version": "1.5.0",
      "_model_name": "ProgressStyleModel",
      "_view_count": null,
      "_view_module": "@jupyter-widgets/base",
      "_view_module_version": "1.2.0",
      "_view_name": "StyleView",
      "bar_color": null,
      "description_width": ""
     }
    },
    "b904faf766a642bc8e3b8b0107e0cbbd": {
     "model_module": "@jupyter-widgets/base",
     "model_module_version": "1.2.0",
     "model_name": "LayoutModel",
     "state": {
      "_model_module": "@jupyter-widgets/base",
      "_model_module_version": "1.2.0",
      "_model_name": "LayoutModel",
      "_view_count": null,
      "_view_module": "@jupyter-widgets/base",
      "_view_module_version": "1.2.0",
      "_view_name": "LayoutView",
      "align_content": null,
      "align_items": null,
      "align_self": null,
      "border": null,
      "bottom": null,
      "display": null,
      "flex": null,
      "flex_flow": null,
      "grid_area": null,
      "grid_auto_columns": null,
      "grid_auto_flow": null,
      "grid_auto_rows": null,
      "grid_column": null,
      "grid_gap": null,
      "grid_row": null,
      "grid_template_areas": null,
      "grid_template_columns": null,
      "grid_template_rows": null,
      "height": null,
      "justify_content": null,
      "justify_items": null,
      "left": null,
      "margin": null,
      "max_height": null,
      "max_width": null,
      "min_height": null,
      "min_width": null,
      "object_fit": null,
      "object_position": null,
      "order": null,
      "overflow": null,
      "overflow_x": null,
      "overflow_y": null,
      "padding": null,
      "right": null,
      "top": null,
      "visibility": null,
      "width": null
     }
    },
    "ba976552588a4ab0abc1cd960fc48190": {
     "model_module": "@jupyter-widgets/base",
     "model_module_version": "1.2.0",
     "model_name": "LayoutModel",
     "state": {
      "_model_module": "@jupyter-widgets/base",
      "_model_module_version": "1.2.0",
      "_model_name": "LayoutModel",
      "_view_count": null,
      "_view_module": "@jupyter-widgets/base",
      "_view_module_version": "1.2.0",
      "_view_name": "LayoutView",
      "align_content": null,
      "align_items": null,
      "align_self": null,
      "border": null,
      "bottom": null,
      "display": null,
      "flex": null,
      "flex_flow": null,
      "grid_area": null,
      "grid_auto_columns": null,
      "grid_auto_flow": null,
      "grid_auto_rows": null,
      "grid_column": null,
      "grid_gap": null,
      "grid_row": null,
      "grid_template_areas": null,
      "grid_template_columns": null,
      "grid_template_rows": null,
      "height": null,
      "justify_content": null,
      "justify_items": null,
      "left": null,
      "margin": null,
      "max_height": null,
      "max_width": null,
      "min_height": null,
      "min_width": null,
      "object_fit": null,
      "object_position": null,
      "order": null,
      "overflow": null,
      "overflow_x": null,
      "overflow_y": null,
      "padding": null,
      "right": null,
      "top": null,
      "visibility": null,
      "width": null
     }
    },
    "ca75694c71b044c7a61a8aefb03dbf08": {
     "model_module": "@jupyter-widgets/controls",
     "model_module_version": "1.5.0",
     "model_name": "DescriptionStyleModel",
     "state": {
      "_model_module": "@jupyter-widgets/controls",
      "_model_module_version": "1.5.0",
      "_model_name": "DescriptionStyleModel",
      "_view_count": null,
      "_view_module": "@jupyter-widgets/base",
      "_view_module_version": "1.2.0",
      "_view_name": "StyleView",
      "description_width": ""
     }
    },
    "d36928dce7a84b758634497aa098348b": {
     "model_module": "@jupyter-widgets/base",
     "model_module_version": "1.2.0",
     "model_name": "LayoutModel",
     "state": {
      "_model_module": "@jupyter-widgets/base",
      "_model_module_version": "1.2.0",
      "_model_name": "LayoutModel",
      "_view_count": null,
      "_view_module": "@jupyter-widgets/base",
      "_view_module_version": "1.2.0",
      "_view_name": "LayoutView",
      "align_content": null,
      "align_items": null,
      "align_self": null,
      "border": null,
      "bottom": null,
      "display": null,
      "flex": null,
      "flex_flow": null,
      "grid_area": null,
      "grid_auto_columns": null,
      "grid_auto_flow": null,
      "grid_auto_rows": null,
      "grid_column": null,
      "grid_gap": null,
      "grid_row": null,
      "grid_template_areas": null,
      "grid_template_columns": null,
      "grid_template_rows": null,
      "height": null,
      "justify_content": null,
      "justify_items": null,
      "left": null,
      "margin": null,
      "max_height": null,
      "max_width": null,
      "min_height": null,
      "min_width": null,
      "object_fit": null,
      "object_position": null,
      "order": null,
      "overflow": null,
      "overflow_x": null,
      "overflow_y": null,
      "padding": null,
      "right": null,
      "top": null,
      "visibility": null,
      "width": null
     }
    },
    "e02da7e120b64eee8755a217a4ad5d00": {
     "model_module": "@jupyter-widgets/base",
     "model_module_version": "1.2.0",
     "model_name": "LayoutModel",
     "state": {
      "_model_module": "@jupyter-widgets/base",
      "_model_module_version": "1.2.0",
      "_model_name": "LayoutModel",
      "_view_count": null,
      "_view_module": "@jupyter-widgets/base",
      "_view_module_version": "1.2.0",
      "_view_name": "LayoutView",
      "align_content": null,
      "align_items": null,
      "align_self": null,
      "border": null,
      "bottom": null,
      "display": null,
      "flex": null,
      "flex_flow": null,
      "grid_area": null,
      "grid_auto_columns": null,
      "grid_auto_flow": null,
      "grid_auto_rows": null,
      "grid_column": null,
      "grid_gap": null,
      "grid_row": null,
      "grid_template_areas": null,
      "grid_template_columns": null,
      "grid_template_rows": null,
      "height": null,
      "justify_content": null,
      "justify_items": null,
      "left": null,
      "margin": null,
      "max_height": null,
      "max_width": null,
      "min_height": null,
      "min_width": null,
      "object_fit": null,
      "object_position": null,
      "order": null,
      "overflow": null,
      "overflow_x": null,
      "overflow_y": null,
      "padding": null,
      "right": null,
      "top": null,
      "visibility": null,
      "width": null
     }
    },
    "e9e653cae83343ff880d76f48d657b13": {
     "model_module": "@jupyter-widgets/base",
     "model_module_version": "1.2.0",
     "model_name": "LayoutModel",
     "state": {
      "_model_module": "@jupyter-widgets/base",
      "_model_module_version": "1.2.0",
      "_model_name": "LayoutModel",
      "_view_count": null,
      "_view_module": "@jupyter-widgets/base",
      "_view_module_version": "1.2.0",
      "_view_name": "LayoutView",
      "align_content": null,
      "align_items": null,
      "align_self": null,
      "border": null,
      "bottom": null,
      "display": null,
      "flex": null,
      "flex_flow": null,
      "grid_area": null,
      "grid_auto_columns": null,
      "grid_auto_flow": null,
      "grid_auto_rows": null,
      "grid_column": null,
      "grid_gap": null,
      "grid_row": null,
      "grid_template_areas": null,
      "grid_template_columns": null,
      "grid_template_rows": null,
      "height": null,
      "justify_content": null,
      "justify_items": null,
      "left": null,
      "margin": null,
      "max_height": null,
      "max_width": null,
      "min_height": null,
      "min_width": null,
      "object_fit": null,
      "object_position": null,
      "order": null,
      "overflow": null,
      "overflow_x": null,
      "overflow_y": null,
      "padding": null,
      "right": null,
      "top": null,
      "visibility": null,
      "width": null
     }
    },
    "f0777c7ed22048f9a7c58021e29f7ee1": {
     "model_module": "@jupyter-widgets/controls",
     "model_module_version": "1.5.0",
     "model_name": "HTMLModel",
     "state": {
      "_dom_classes": [],
      "_model_module": "@jupyter-widgets/controls",
      "_model_module_version": "1.5.0",
      "_model_name": "HTMLModel",
      "_view_count": null,
      "_view_module": "@jupyter-widgets/controls",
      "_view_module_version": "1.5.0",
      "_view_name": "HTMLView",
      "description": "",
      "description_tooltip": null,
      "layout": "IPY_MODEL_d36928dce7a84b758634497aa098348b",
      "placeholder": "​",
      "style": "IPY_MODEL_a0b03762c4bd49a29d94f930eea45a56",
      "value": " 0/10 [00:00&lt;?, ?it/s]"
     }
    },
    "f2e87c00e12a44eb9e1ae02408e2a88e": {
     "model_module": "@jupyter-widgets/controls",
     "model_module_version": "1.5.0",
     "model_name": "HBoxModel",
     "state": {
      "_dom_classes": [],
      "_model_module": "@jupyter-widgets/controls",
      "_model_module_version": "1.5.0",
      "_model_name": "HBoxModel",
      "_view_count": null,
      "_view_module": "@jupyter-widgets/controls",
      "_view_module_version": "1.5.0",
      "_view_name": "HBoxView",
      "box_style": "",
      "children": [
       "IPY_MODEL_652968ad766a4de38dae03432f2f0f91",
       "IPY_MODEL_7f24ccf3c6f34c6ebff78fd5975761da",
       "IPY_MODEL_f6712b78bd3e4f4fa67f540aa79ea740"
      ],
      "layout": "IPY_MODEL_e9e653cae83343ff880d76f48d657b13"
     }
    },
    "f6712b78bd3e4f4fa67f540aa79ea740": {
     "model_module": "@jupyter-widgets/controls",
     "model_module_version": "1.5.0",
     "model_name": "HTMLModel",
     "state": {
      "_dom_classes": [],
      "_model_module": "@jupyter-widgets/controls",
      "_model_module_version": "1.5.0",
      "_model_name": "HTMLModel",
      "_view_count": null,
      "_view_module": "@jupyter-widgets/controls",
      "_view_module_version": "1.5.0",
      "_view_name": "HTMLView",
      "description": "",
      "description_tooltip": null,
      "layout": "IPY_MODEL_ba976552588a4ab0abc1cd960fc48190",
      "placeholder": "​",
      "style": "IPY_MODEL_ca75694c71b044c7a61a8aefb03dbf08",
      "value": " 10/10 [02:49&lt;00:00, 16.94s/it]"
     }
    },
    "fe659ef60f444879bb9aa6229447cba2": {
     "model_module": "@jupyter-widgets/controls",
     "model_module_version": "1.5.0",
     "model_name": "ProgressStyleModel",
     "state": {
      "_model_module": "@jupyter-widgets/controls",
      "_model_module_version": "1.5.0",
      "_model_name": "ProgressStyleModel",
      "_view_count": null,
      "_view_module": "@jupyter-widgets/base",
      "_view_module_version": "1.2.0",
      "_view_name": "StyleView",
      "bar_color": null,
      "description_width": ""
     }
    }
   }
  }
 },
 "nbformat": 4,
 "nbformat_minor": 4
}
